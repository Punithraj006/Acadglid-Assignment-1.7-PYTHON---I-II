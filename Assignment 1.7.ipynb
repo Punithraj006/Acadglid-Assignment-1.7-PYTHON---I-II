{
 "cells": [
  {
   "cell_type": "markdown",
   "metadata": {},
   "source": [
    "Problem Statement:\n",
    "\n",
    "Write a Python program to reverse a word after accepting the input from the user.\n",
    "Sample Output:\n",
    "Input word: AcadGild\n",
    "Output: dilGdacA\n"
   ]
  },
  {
   "cell_type": "code",
   "execution_count": 4,
   "metadata": {},
   "outputs": [
    {
     "name": "stdout",
     "output_type": "stream",
     "text": [
      "Enter a word to reverse:AcadGlid\n",
      "Reversed word is: dilGdacA\n"
     ]
    }
   ],
   "source": [
    "def reverse(Word):\n",
    "    reverse_word=''\n",
    "    for i in Word:\n",
    "        reverse_word = i + reverse_word\n",
    "    print('Reversed word is: ' +reverse_word)\n",
    "\n",
    "\n",
    "Word = input('Enter a word to reverse:')\n",
    "reverse(Word)\n"
   ]
  },
  {
   "cell_type": "code",
   "execution_count": null,
   "metadata": {},
   "outputs": [],
   "source": []
  }
 ],
 "metadata": {
  "kernelspec": {
   "display_name": "Python 3",
   "language": "python",
   "name": "python3"
  },
  "language_info": {
   "codemirror_mode": {
    "name": "ipython",
    "version": 3
   },
   "file_extension": ".py",
   "mimetype": "text/x-python",
   "name": "python",
   "nbconvert_exporter": "python",
   "pygments_lexer": "ipython3",
   "version": "3.6.5"
  }
 },
 "nbformat": 4,
 "nbformat_minor": 2
}
